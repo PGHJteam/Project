{
 "cells": [
  {
   "cell_type": "code",
   "execution_count": 3,
   "id": "d5534efa",
   "metadata": {},
   "outputs": [
    {
     "name": "stdout",
     "output_type": "stream",
     "text": [
      "Collecting git+https://github.com/liminghao1630/fairseq.git\n",
      "  Cloning https://github.com/liminghao1630/fairseq.git to c:\\users\\hyukh\\appdata\\local\\temp\\pip-req-build-jql7r_xj\n",
      "  Resolved https://github.com/liminghao1630/fairseq.git to commit bed7edbf45cae165a1fc67c6d792f40b81dc6f82\n",
      "  Installing build dependencies: started\n",
      "  Installing build dependencies: finished with status 'done'\n",
      "  Getting requirements to build wheel: started\n",
      "  Getting requirements to build wheel: finished with status 'error'\n"
     ]
    },
    {
     "name": "stderr",
     "output_type": "stream",
     "text": [
      "WARNING: Ignoring invalid distribution -orch (c:\\users\\hyukh\\anaconda3\\envs\\trocr\\lib\\site-packages)\n",
      "WARNING: Ignoring invalid distribution -orch (c:\\users\\hyukh\\anaconda3\\envs\\trocr\\lib\\site-packages)\n",
      "  Running command git clone --filter=blob:none -q https://github.com/liminghao1630/fairseq.git 'C:\\Users\\hyukh\\AppData\\Local\\Temp\\pip-req-build-jql7r_xj'\n",
      "  Running command git submodule update --init --recursive -q\n",
      "  ERROR: Command errored out with exit status 1:\n",
      "   command: 'C:\\Users\\hyukh\\anaconda3\\envs\\trocr\\python.exe' 'C:\\Users\\hyukh\\anaconda3\\envs\\trocr\\lib\\site-packages\\pip\\_vendor\\pep517\\in_process\\_in_process.py' get_requires_for_build_wheel 'C:\\Users\\hyukh\\AppData\\Local\\Temp\\tmpg_ottw5q'\n",
      "       cwd: C:\\Users\\hyukh\\AppData\\Local\\Temp\\pip-req-build-jql7r_xj\n",
      "  Complete output (16 lines):\n",
      "  Traceback (most recent call last):\n",
      "    File \"C:\\Users\\hyukh\\anaconda3\\envs\\trocr\\lib\\site-packages\\pip\\_vendor\\pep517\\in_process\\_in_process.py\", line 363, in <module>\n",
      "      main()\n",
      "    File \"C:\\Users\\hyukh\\anaconda3\\envs\\trocr\\lib\\site-packages\\pip\\_vendor\\pep517\\in_process\\_in_process.py\", line 345, in main\n",
      "      json_out['return_val'] = hook(**hook_input['kwargs'])\n",
      "    File \"C:\\Users\\hyukh\\anaconda3\\envs\\trocr\\lib\\site-packages\\pip\\_vendor\\pep517\\in_process\\_in_process.py\", line 130, in get_requires_for_build_wheel\n",
      "      return hook(config_settings)\n",
      "    File \"C:\\Users\\hyukh\\AppData\\Local\\Temp\\pip-build-env-jpx0g_q5\\overlay\\Lib\\site-packages\\setuptools\\build_meta.py\", line 154, in get_requires_for_build_wheel\n",
      "      return self._get_build_requires(\n",
      "    File \"C:\\Users\\hyukh\\AppData\\Local\\Temp\\pip-build-env-jpx0g_q5\\overlay\\Lib\\site-packages\\setuptools\\build_meta.py\", line 135, in _get_build_requires\n",
      "      self.run_setup()\n",
      "    File \"C:\\Users\\hyukh\\AppData\\Local\\Temp\\pip-build-env-jpx0g_q5\\overlay\\Lib\\site-packages\\setuptools\\build_meta.py\", line 150, in run_setup\n",
      "      exec(compile(code, __file__, 'exec'), locals())\n",
      "    File \"setup.py\", line 261, in <module>\n",
      "      os.symlink(os.path.join(\"..\", \"examples\"), fairseq_examples)\n",
      "  OSError: [WinError 1314] A required privilege is not held by the client: '..\\\\examples' -> 'fairseq\\\\examples'\n",
      "  ----------------------------------------\n",
      "WARNING: Discarding git+https://github.com/liminghao1630/fairseq.git. Command errored out with exit status 1: 'C:\\Users\\hyukh\\anaconda3\\envs\\trocr\\python.exe' 'C:\\Users\\hyukh\\anaconda3\\envs\\trocr\\lib\\site-packages\\pip\\_vendor\\pep517\\in_process\\_in_process.py' get_requires_for_build_wheel 'C:\\Users\\hyukh\\AppData\\Local\\Temp\\tmpg_ottw5q' Check the logs for full command output.\n",
      "ERROR: Command errored out with exit status 1: 'C:\\Users\\hyukh\\anaconda3\\envs\\trocr\\python.exe' 'C:\\Users\\hyukh\\anaconda3\\envs\\trocr\\lib\\site-packages\\pip\\_vendor\\pep517\\in_process\\_in_process.py' get_requires_for_build_wheel 'C:\\Users\\hyukh\\AppData\\Local\\Temp\\tmpg_ottw5q' Check the logs for full command output.\n",
      "WARNING: Ignoring invalid distribution -orch (c:\\users\\hyukh\\anaconda3\\envs\\trocr\\lib\\site-packages)\n",
      "WARNING: Ignoring invalid distribution -orch (c:\\users\\hyukh\\anaconda3\\envs\\trocr\\lib\\site-packages)\n"
     ]
    }
   ],
   "source": [
    "!pip install git+https://github.com/liminghao1630/fairseq.git --user"
   ]
  },
  {
   "cell_type": "code",
   "execution_count": 1,
   "id": "fc2fdc1a",
   "metadata": {},
   "outputs": [
    {
     "ename": "ModuleNotFoundError",
     "evalue": "No module named 'fairseq'",
     "output_type": "error",
     "traceback": [
      "\u001b[1;31m---------------------------------------------------------------------------\u001b[0m",
      "\u001b[1;31mModuleNotFoundError\u001b[0m                       Traceback (most recent call last)",
      "\u001b[1;32m~\\AppData\\Local\\Temp/ipykernel_5324/3616915813.py\u001b[0m in \u001b[0;36m<module>\u001b[1;34m\u001b[0m\n\u001b[0;32m      9\u001b[0m \u001b[1;32mfrom\u001b[0m \u001b[0mimage_crop\u001b[0m \u001b[1;32mimport\u001b[0m \u001b[0mcropped_image\u001b[0m\u001b[1;33m\u001b[0m\u001b[1;33m\u001b[0m\u001b[0m\n\u001b[0;32m     10\u001b[0m \u001b[1;32mfrom\u001b[0m \u001b[0mtorch\u001b[0m\u001b[1;33m.\u001b[0m\u001b[0mutils\u001b[0m\u001b[1;33m.\u001b[0m\u001b[0mdata\u001b[0m \u001b[1;32mimport\u001b[0m \u001b[0mDataset\u001b[0m\u001b[1;33m\u001b[0m\u001b[1;33m\u001b[0m\u001b[0m\n\u001b[1;32m---> 11\u001b[1;33m \u001b[1;32mfrom\u001b[0m \u001b[0mtrocr_inference\u001b[0m \u001b[1;32mimport\u001b[0m \u001b[0minit\u001b[0m \u001b[1;32mas\u001b[0m \u001b[0mtr_init\u001b[0m\u001b[1;33m\u001b[0m\u001b[1;33m\u001b[0m\u001b[0m\n\u001b[0m\u001b[0;32m     12\u001b[0m \u001b[1;32mfrom\u001b[0m \u001b[0mtrocr_inference\u001b[0m \u001b[1;32mimport\u001b[0m \u001b[0mget_text\u001b[0m \u001b[1;32mas\u001b[0m \u001b[0mtr_recog\u001b[0m\u001b[1;33m\u001b[0m\u001b[1;33m\u001b[0m\u001b[0m\n\u001b[0;32m     13\u001b[0m \u001b[1;32mimport\u001b[0m \u001b[0mstring\u001b[0m\u001b[1;33m\u001b[0m\u001b[1;33m\u001b[0m\u001b[0m\n",
      "\u001b[1;32m~\\Desktop\\인공지능학과\\인공지능종합설계1\\capstone_git\\AI\\trocr_inference.py\u001b[0m in \u001b[0;36m<module>\u001b[1;34m\u001b[0m\n\u001b[0;32m      1\u001b[0m \u001b[1;33m\u001b[0m\u001b[0m\n\u001b[1;32m----> 2\u001b[1;33m \u001b[1;32mfrom\u001b[0m \u001b[0mtrocr\u001b[0m \u001b[1;32mimport\u001b[0m \u001b[0mtask\u001b[0m\u001b[1;33m,\u001b[0m\u001b[0mdeit\u001b[0m\u001b[1;33m,\u001b[0m\u001b[0mdeit_models\u001b[0m\u001b[1;33m\u001b[0m\u001b[1;33m\u001b[0m\u001b[0m\n\u001b[0m\u001b[0;32m      3\u001b[0m \u001b[1;32mimport\u001b[0m \u001b[0mtorch\u001b[0m\u001b[1;33m\u001b[0m\u001b[1;33m\u001b[0m\u001b[0m\n\u001b[0;32m      4\u001b[0m \u001b[1;32mimport\u001b[0m \u001b[0mos\u001b[0m\u001b[1;33m\u001b[0m\u001b[1;33m\u001b[0m\u001b[0m\n\u001b[0;32m      5\u001b[0m \u001b[1;33m\u001b[0m\u001b[0m\n",
      "\u001b[1;32m~\\Desktop\\인공지능학과\\인공지능종합설계1\\capstone_git\\AI\\trocr\\__init__.py\u001b[0m in \u001b[0;36m<module>\u001b[1;34m\u001b[0m\n\u001b[1;32m----> 1\u001b[1;33m \u001b[1;32mfrom\u001b[0m \u001b[1;33m.\u001b[0m\u001b[0mtask\u001b[0m \u001b[1;32mimport\u001b[0m \u001b[0mSROIETextRecognitionTask\u001b[0m\u001b[1;33m\u001b[0m\u001b[1;33m\u001b[0m\u001b[0m\n\u001b[0m\u001b[0;32m      2\u001b[0m \u001b[1;32mfrom\u001b[0m \u001b[1;33m.\u001b[0m\u001b[0mvit_models\u001b[0m \u001b[1;32mimport\u001b[0m \u001b[0mViTTRModel\u001b[0m\u001b[1;33m,\u001b[0m \u001b[0mViT_TR_base\u001b[0m\u001b[1;33m\u001b[0m\u001b[1;33m\u001b[0m\u001b[0m\n\u001b[0;32m      3\u001b[0m \u001b[1;32mfrom\u001b[0m \u001b[1;33m.\u001b[0m\u001b[0mscoring\u001b[0m \u001b[1;32mimport\u001b[0m \u001b[0mAccEDScorer\u001b[0m\u001b[1;33m\u001b[0m\u001b[1;33m\u001b[0m\u001b[0m\n\u001b[0;32m      4\u001b[0m \u001b[1;32mfrom\u001b[0m \u001b[1;33m.\u001b[0m\u001b[0mdeit\u001b[0m \u001b[1;32mimport\u001b[0m \u001b[0mdeit_base_distilled_patch16_224\u001b[0m\u001b[1;33m,\u001b[0m \u001b[0mdeit_base_distilled_patch16_384\u001b[0m\u001b[1;33m\u001b[0m\u001b[1;33m\u001b[0m\u001b[0m\n\u001b[0;32m      5\u001b[0m \u001b[1;32mfrom\u001b[0m \u001b[1;33m.\u001b[0m\u001b[0mdeit_models\u001b[0m \u001b[1;32mimport\u001b[0m \u001b[0mDeiTTRModel\u001b[0m\u001b[1;33m\u001b[0m\u001b[1;33m\u001b[0m\u001b[0m\n",
      "\u001b[1;32m~\\Desktop\\인공지능학과\\인공지능종합설계1\\capstone_git\\AI\\trocr\\task.py\u001b[0m in \u001b[0;36m<module>\u001b[1;34m\u001b[0m\n\u001b[0;32m      2\u001b[0m \u001b[1;32mimport\u001b[0m \u001b[0mtorch\u001b[0m\u001b[1;33m\u001b[0m\u001b[1;33m\u001b[0m\u001b[0m\n\u001b[0;32m      3\u001b[0m \u001b[1;33m\u001b[0m\u001b[0m\n\u001b[1;32m----> 4\u001b[1;33m \u001b[1;32mfrom\u001b[0m \u001b[0mfairseq\u001b[0m \u001b[1;32mimport\u001b[0m \u001b[0mmetrics\u001b[0m\u001b[1;33m,\u001b[0m \u001b[0msearch\u001b[0m\u001b[1;33m,\u001b[0m \u001b[0mtokenizer\u001b[0m\u001b[1;33m,\u001b[0m \u001b[0mutils\u001b[0m\u001b[1;33m\u001b[0m\u001b[1;33m\u001b[0m\u001b[0m\n\u001b[0m\u001b[0;32m      5\u001b[0m \u001b[1;32mfrom\u001b[0m \u001b[0mfairseq\u001b[0m\u001b[1;33m.\u001b[0m\u001b[0mdata\u001b[0m \u001b[1;32mimport\u001b[0m \u001b[0mDictionary\u001b[0m\u001b[1;33m\u001b[0m\u001b[1;33m\u001b[0m\u001b[0m\n\u001b[0;32m      6\u001b[0m \u001b[1;32mfrom\u001b[0m \u001b[0mfairseq\u001b[0m\u001b[1;33m.\u001b[0m\u001b[0mtasks\u001b[0m \u001b[1;32mimport\u001b[0m \u001b[0mLegacyFairseqTask\u001b[0m\u001b[1;33m,\u001b[0m \u001b[0mregister_task\u001b[0m\u001b[1;33m\u001b[0m\u001b[1;33m\u001b[0m\u001b[0m\n",
      "\u001b[1;31mModuleNotFoundError\u001b[0m: No module named 'fairseq'"
     ]
    }
   ],
   "source": [
    "import pickle\n",
    "import argparse,sys\n",
    "import numpy as np\n",
    "import cv2\n",
    "from detection import imgproc, craft_utils\n",
    "from detection.craft import CRAFT\n",
    "from torch.autograd import Variable\n",
    "from collections import OrderedDict\n",
    "from image_crop import cropped_image\n",
    "from torch.utils.data import Dataset\n",
    "from trocr_inference import init as tr_init\n",
    "from trocr_inference import get_text as tr_recog\n",
    "import string\n",
    "import torch\n",
    "import torch.backends.cudnn as cudnn\n",
    "import torch.utils.data\n",
    "import torch.nn.functional as F\n",
    "import os\n",
    "import json\n",
    "from PIL import Image\n",
    "from recognition.utils import CTCLabelConverter, AttnLabelConverter\n",
    "from recognition.dataset import AlignCollate\n",
    "from recognition.model import Model\n",
    "device = torch.device('cuda' if torch.cuda.is_available() else 'cpu')\n",
    "with open('craft.pkl','rb') as f:\n",
    "    tmodel = pickle.load(f)\n",
    "with open('trhtr.pkl','rb') as f2:\n",
    "    tprocessor = pickle.load(f2)    "
   ]
  }
 ],
 "metadata": {
  "kernelspec": {
   "display_name": "Python 3 (ipykernel)",
   "language": "python",
   "name": "python3"
  },
  "language_info": {
   "codemirror_mode": {
    "name": "ipython",
    "version": 3
   },
   "file_extension": ".py",
   "mimetype": "text/x-python",
   "name": "python",
   "nbconvert_exporter": "python",
   "pygments_lexer": "ipython3",
   "version": "3.8.12"
  }
 },
 "nbformat": 4,
 "nbformat_minor": 5
}
